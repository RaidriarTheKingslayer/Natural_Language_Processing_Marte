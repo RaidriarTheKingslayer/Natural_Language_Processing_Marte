{
 "cells": [
  {
   "cell_type": "markdown",
   "metadata": {},
   "source": [
    "# Sentiment Analysis Assessment - Solution\n",
    "\n",
    "## Task #1: Perform vector arithmetic on your own words\n",
    "Write code that evaluates vector arithmetic on your own set of related words. The goal is to come as close to an expected word as possible. Please feel free to share success stories in the Q&A Forum for this section!"
   ]
  },
  {
   "cell_type": "code",
   "execution_count": 1,
   "metadata": {},
   "outputs": [],
   "source": [
    "# Import spaCy and load the language library. Remember to use a larger model!\n",
    "# RUN THIS CELL to perform standard imports:\n",
    "import spacy\n",
    "nlp = spacy.load('en_core_web_md')\n",
    "from spacy import displacy"
   ]
  },
  {
   "cell_type": "code",
   "execution_count": 2,
   "metadata": {},
   "outputs": [],
   "source": [
    "# Choose the words you wish to compare, and obtain their vectors\n",
    "words = ['ecstatic', 'joyful', 'miserable']\n",
    "word_vectors = {word: nlp.vocab[word].vector for word in words}"
   ]
  },
  {
   "cell_type": "code",
   "execution_count": 3,
   "metadata": {},
   "outputs": [
    {
     "data": {
      "text/plain": [
       "{'ecstatic': array([-0.67068 ,  0.27548 , -1.8172  , -0.5289  ,  2.5144  , -1.1588  ,\n",
       "         2.3219  ,  0.53299 , -0.37279 , -0.81931 ,  1.4773  , -0.66501 ,\n",
       "         0.23891 ,  1.772   ,  2.0204  , -0.70456 ,  1.0632  , -0.28494 ,\n",
       "        -2.7905  , -1.0509  ,  1.3569  ,  0.99753 , -1.7222  , -1.4504  ,\n",
       "        -1.9008  , -1.2981  , -1.4197  , -0.50681 , -0.38561 ,  2.5661  ,\n",
       "         1.5151  ,  0.45034 , -0.21167 ,  1.3173  , -1.9054  , -2.9211  ,\n",
       "         0.47291 ,  0.025939,  2.4379  ,  2.3975  , -1.3418  , -0.053997,\n",
       "        -0.63691 ,  0.21353 , -2.0662  ,  2.7349  ,  1.7883  , -1.0111  ,\n",
       "         0.10086 ,  2.331   , -0.89693 , -0.76109 , -1.2632  , -0.12785 ,\n",
       "        -3.1367  ,  0.99889 ,  1.871   ,  0.57415 ,  0.57486 ,  0.054386,\n",
       "         0.84079 ,  0.13604 , -1.8042  ,  0.34943 ,  1.674   ,  1.8322  ,\n",
       "        -2.664   , -2.8388  ,  0.59243 ,  2.2413  , -1.0008  ,  0.12001 ,\n",
       "        -1.8362  ,  0.54675 , -1.991   ,  1.5513  , -1.992   , -0.44796 ,\n",
       "        -1.8171  ,  1.0354  , -2.9176  ,  0.26232 , -0.83631 , -0.54921 ,\n",
       "         1.6006  ,  0.090752, -1.3081  , -0.12608 ,  0.62451 , -1.4084  ,\n",
       "        -1.0135  ,  1.6315  ,  0.08019 , -2.2714  ,  0.17253 ,  0.29868 ,\n",
       "         3.6499  , -1.6394  , -0.22588 , -0.70242 , -0.09341 ,  2.6113  ,\n",
       "         0.80694 ,  4.5632  , -1.9048  ,  1.5141  ,  0.92823 ,  0.35074 ,\n",
       "         2.463   ,  0.67425 ,  0.27476 , -0.99797 , -1.3339  , -1.9237  ,\n",
       "         1.7071  , -2.1453  , -1.1683  , -1.4052  , -0.51975 , -0.51222 ,\n",
       "        -1.4739  , -3.5802  , -0.56328 ,  1.3319  , -1.3932  , -0.94625 ,\n",
       "        -0.85115 , -2.081   ,  0.20086 , -0.87558 , -1.6652  ,  1.4041  ,\n",
       "         0.40384 , -0.46222 , -1.2489  ,  1.8311  , -0.7244  , -0.84419 ,\n",
       "         1.3051  , -0.44468 ,  1.8485  ,  0.33857 ,  1.4256  , -2.3563  ,\n",
       "        -2.0477  , -0.52325 , -1.9718  ,  0.30195 ,  1.7768  ,  2.3152  ,\n",
       "        -0.74473 ,  1.0244  ,  1.2595  , -0.77399 ,  0.10939 ,  2.8288  ,\n",
       "         0.98493 , -0.94771 ,  1.2959  , -1.464   ,  0.016723,  0.20261 ,\n",
       "        -0.92099 ,  1.2324  , -0.81899 , -0.45239 , -2.799   ,  0.23014 ,\n",
       "        -1.7086  ,  1.8596  ,  2.4415  ,  1.3368  ,  2.7442  ,  0.8741  ,\n",
       "         1.6978  ,  0.84922 , -1.06    ,  0.9028  , -2.2575  ,  0.37877 ,\n",
       "         2.2096  , -1.6926  ,  2.2764  ,  0.25826 , -0.62425 ,  1.0284  ,\n",
       "        -1.6932  , -0.43917 , -1.4525  ,  1.044   , -3.6177  ,  1.3881  ,\n",
       "         1.2049  , -0.2184  ,  0.17946 , -0.31998 , -2.5053  , -0.81454 ,\n",
       "        -1.1738  , -1.9492  , -1.5204  , -0.54755 , -1.4908  , -2.9743  ,\n",
       "        -1.1246  ,  0.47079 , -0.97536 ,  0.9126  ,  0.35764 , -2.0372  ,\n",
       "         0.034073,  1.7263  , -0.31786 ,  0.53941 , -1.1641  ,  2.2543  ,\n",
       "        -1.2446  , -0.14538 , -1.9414  ,  0.92492 , -1.7214  ,  1.8923  ,\n",
       "        -0.28202 , -0.16417 ,  0.22633 , -0.043725, -1.634   ,  0.18513 ,\n",
       "         3.3147  , -0.62989 , -0.66191 , -0.55017 , -1.1258  ,  1.9867  ,\n",
       "         1.6352  ,  1.4251  , -1.9478  ,  4.0283  , -0.40454 , -0.8096  ,\n",
       "         0.40969 , -0.36544 ,  2.542   ,  1.0144  ,  1.1343  ,  2.2692  ,\n",
       "        -1.8581  ,  0.092114,  0.57491 ,  2.0023  ,  3.3645  ,  0.75523 ,\n",
       "        -3.4604  ,  0.50479 ,  0.18099 , -2.5789  ,  1.9236  ,  2.66    ,\n",
       "         0.32108 ,  0.16212 , -0.37474 ,  1.1842  ,  0.73061 ,  2.9529  ,\n",
       "         2.0346  , -0.7672  , -1.4155  ,  0.19342 ,  0.13446 , -1.6219  ,\n",
       "         2.7045  , -1.3792  ,  1.2453  , -2.2203  , -0.21215 ,  1.7149  ,\n",
       "         1.8023  , -0.72582 , -1.3832  ,  2.4062  , -0.073474, -2.9557  ,\n",
       "         0.35406 ,  0.46873 , -0.14104 , -1.361   , -1.6623  , -0.98867 ,\n",
       "         0.60434 ,  0.13137 ,  1.8275  ,  0.46705 ,  1.2362  , -2.3289  ,\n",
       "         0.66282 , -1.3301  ,  0.3128  , -0.60571 , -2.5389  , -0.51374 ],\n",
       "       dtype=float32),\n",
       " 'joyful': array([ 6.1626e+00, -5.2790e-01, -6.7892e+00,  1.5243e+00, -1.8874e+00,\n",
       "         2.3527e-01,  3.6803e+00, -3.4745e+00, -6.7158e-01,  1.7340e+00,\n",
       "         6.2489e+00, -7.0746e+00,  1.7572e+00,  4.5879e+00,  2.8272e+00,\n",
       "        -3.0110e+00, -8.6292e-01, -2.2834e+00, -1.1116e+01,  4.9518e-01,\n",
       "        -6.6939e-02,  8.0254e+00, -2.9234e+00, -6.4566e+00,  2.3357e+00,\n",
       "         2.1512e+00, -1.8429e+00,  6.1603e+00, -2.0067e+00,  1.1734e+01,\n",
       "         1.5001e+00, -2.4548e+00,  3.2880e+00, -7.4881e-01,  7.0815e+00,\n",
       "         5.9107e+00,  7.4467e-01,  3.8998e+00, -4.0678e-01, -2.9466e+00,\n",
       "         3.1600e+00,  9.9423e+00,  1.4115e+00,  1.3715e+00, -6.1478e+00,\n",
       "         4.5988e+00, -3.7301e+00,  2.9577e+00,  4.6067e+00, -3.4237e+00,\n",
       "         2.6025e-01, -4.5671e+00,  1.9041e+00, -6.9796e-01,  8.1018e+00,\n",
       "        -4.1380e+00, -1.0121e+00, -4.4123e-02,  1.2292e+00,  5.3630e+00,\n",
       "         3.6148e+00, -4.4844e-03,  5.5381e+00,  8.7043e-01, -1.7420e-01,\n",
       "         3.0512e+00, -1.8249e+00, -4.0524e+00, -3.1277e+00, -4.1040e+00,\n",
       "        -3.8453e+00,  4.7401e+00, -1.7043e+00, -1.6253e+00, -4.8223e+00,\n",
       "        -1.7256e-01, -2.4938e+00,  5.0394e+00, -1.0519e+00, -2.9557e+00,\n",
       "         3.5569e+00, -7.3438e-01,  5.6080e+00, -8.0433e+00, -1.8538e+00,\n",
       "         3.6783e+00, -2.0987e+00,  4.8767e+00, -5.4067e+00, -5.6784e+00,\n",
       "        -3.8724e-01, -1.5416e+00,  3.2310e-01, -7.9883e+00,  2.4970e-01,\n",
       "        -5.9505e+00, -2.7027e-01, -2.7723e+00, -1.1939e+00, -3.8852e+00,\n",
       "        -3.3235e-01,  1.1440e+00, -9.4204e-02,  5.5277e-01, -2.9080e+00,\n",
       "        -3.1004e+00, -2.1635e-01, -1.3461e-01,  1.8407e+00,  6.7207e+00,\n",
       "         4.8691e+00, -2.5013e+00,  5.2086e+00, -5.3975e+00, -5.8971e+00,\n",
       "         1.6619e+00, -8.1401e+00,  2.1994e-01,  1.2859e+00,  2.5806e+00,\n",
       "        -4.4071e+00,  9.5021e-01, -3.2276e+00,  6.4085e+00,  5.0245e+00,\n",
       "         1.0083e+00,  2.2326e+00, -2.5852e+00,  4.5625e-01, -1.4215e+00,\n",
       "        -5.0388e+00, -7.6601e-02,  7.8618e-01,  2.4194e+00, -3.7677e+00,\n",
       "         3.2967e+00, -1.3224e+00,  6.0778e+00, -2.3443e-01, -1.0586e-01,\n",
       "         2.5222e+00,  2.2702e+00,  6.6490e+00,  9.9753e-03, -6.8675e+00,\n",
       "        -4.5232e+00, -4.0615e+00,  3.0010e+00, -2.3606e+00,  2.0977e+00,\n",
       "         5.3994e-02,  8.2057e+00,  3.0838e+00, -4.6537e+00,  1.6187e+00,\n",
       "         1.0436e+01,  2.3042e+00, -2.6094e+00,  5.9832e+00,  3.4265e-01,\n",
       "         4.1613e+00,  1.9473e+00, -3.1491e+00,  4.9557e+00,  6.8732e+00,\n",
       "        -1.4269e+00,  2.0096e+00, -2.5306e+00,  1.8172e-01, -8.3335e+00,\n",
       "        -5.5440e-01, -2.7081e+00, -2.6000e+00,  6.6540e-01,  3.4803e+00,\n",
       "        -4.1578e+00, -1.8856e+00,  6.3267e+00,  8.0190e+00, -3.8121e-01,\n",
       "         7.6204e+00, -6.0625e+00,  8.1538e+00,  8.0218e+00,  5.3918e-01,\n",
       "         5.1417e+00,  5.8556e+00, -6.5538e+00,  3.2110e+00,  2.3526e+00,\n",
       "        -9.3107e-01,  3.5184e+00,  1.0947e+00, -4.4643e+00, -3.4323e+00,\n",
       "        -1.6724e+00, -6.0729e+00, -7.5785e-01, -1.5404e+00, -3.2455e-01,\n",
       "         9.0627e+00, -8.4493e-01, -5.4279e+00, -3.3394e+00, -1.1040e+01,\n",
       "        -6.0509e+00,  6.7525e+00,  2.1828e+00,  1.1078e-01, -2.7409e-01,\n",
       "         1.1473e+00,  3.7886e+00,  1.1005e+00,  4.6862e-01,  1.0834e+00,\n",
       "         7.2741e+00, -8.7056e+00,  2.8182e+00, -1.5171e+00, -5.2771e+00,\n",
       "         2.9974e+00,  7.4671e+00, -4.5635e+00,  8.0186e+00, -3.6890e+00,\n",
       "        -4.6328e-01, -3.7127e+00, -7.1148e+00,  4.2797e+00, -2.4539e+00,\n",
       "        -5.1604e+00, -9.9358e-01,  3.8448e+00,  1.8324e+00, -3.8192e+00,\n",
       "        -6.2889e-01, -3.7886e+00,  4.1546e+00, -3.0731e+00, -3.0342e+00,\n",
       "         1.9208e+00, -2.7761e+00,  6.1891e+00, -4.8497e+00,  9.9629e+00,\n",
       "         2.0757e+00, -1.7778e+00,  1.6095e+00,  5.8992e-01, -1.0202e+00,\n",
       "        -2.9732e+00,  9.3411e+00, -5.8088e+00,  7.5479e-01,  1.9464e+00,\n",
       "         1.4508e+00, -7.5303e+00,  4.1609e+00, -5.2298e+00, -4.0005e+00,\n",
       "         8.1169e+00,  6.2542e+00,  6.2059e+00, -1.1182e+00,  7.8389e-01,\n",
       "        -1.6964e+00, -5.6282e+00, -2.7110e+00,  2.5162e+00,  4.6823e+00,\n",
       "         5.5681e+00,  3.6726e+00, -1.8794e+00, -8.1655e+00, -3.8493e+00,\n",
       "         2.6618e+00,  5.8220e+00, -6.4474e+00,  6.6229e-01,  1.2483e+00,\n",
       "        -5.2343e+00, -8.0721e-01,  5.1178e+00,  3.4356e+00, -5.4902e-01,\n",
       "        -2.1957e+00, -1.6586e+00, -2.1354e+00, -1.1665e+00,  4.8600e-01,\n",
       "         4.9788e+00,  2.1056e+00,  1.3082e+00, -4.6585e+00,  5.0158e+00,\n",
       "         1.2441e+00,  6.4259e+00, -8.4860e-01, -8.6089e+00,  3.9227e-02],\n",
       "       dtype=float32),\n",
       " 'miserable': array([-5.2434e-01, -1.1507e+00, -9.9440e-01,  3.1481e-01,  7.7591e-01,\n",
       "         3.4264e-01,  1.6484e+00,  2.5629e+00, -9.5927e-02, -1.4663e+00,\n",
       "         5.6994e+00,  1.8395e+00, -2.0190e+00,  2.1292e+00,  2.1565e+00,\n",
       "        -1.2741e-01, -3.9004e-01, -3.8278e+00, -2.1549e+00, -1.3169e+00,\n",
       "         7.7464e-01,  1.4067e+00, -5.6505e-01,  1.5388e-01,  1.0898e+00,\n",
       "        -4.2593e+00, -1.5031e+00, -5.6064e-01,  4.2658e-01,  3.0843e+00,\n",
       "         8.5492e-01,  8.5731e-01,  2.6374e-01,  3.4244e-01, -3.2296e-01,\n",
       "        -9.7953e-02,  1.6566e-02,  2.6844e+00,  1.5704e+00,  3.4033e+00,\n",
       "        -3.6104e-02, -1.0260e+00,  3.2134e-01, -8.8520e-01, -3.2340e+00,\n",
       "         2.1279e+00, -3.6155e-01, -2.1572e+00, -1.5955e+00,  6.3534e-01,\n",
       "         5.3879e-01,  1.5778e+00,  1.1373e+00, -3.0025e+00, -3.5790e-01,\n",
       "        -7.1846e-01, -2.8329e-01, -3.8430e-01,  9.4574e-02, -3.6214e-01,\n",
       "         4.8712e-01, -1.3547e+00,  5.3974e-01, -3.0724e+00,  1.4698e-01,\n",
       "        -1.8458e+00, -1.2642e+00, -2.6060e+00,  2.5472e+00, -1.9567e+00,\n",
       "         1.9312e+00, -3.9863e-02, -1.6887e+00,  6.3591e-02,  1.2396e+00,\n",
       "        -3.7430e-01, -2.9083e+00, -1.7116e-01,  3.7995e-01,  7.6292e-01,\n",
       "        -1.1333e+00,  2.2139e-01,  9.0096e-01, -1.1913e+00, -9.8649e-01,\n",
       "         1.1896e+00, -1.3268e+00, -4.1600e-01,  1.9356e+00,  3.9803e-02,\n",
       "         1.8790e+00, -1.4066e+00,  3.3965e-01, -4.1285e+00, -8.4700e-01,\n",
       "        -1.3365e+00,  1.8796e+00,  2.7805e-01, -4.2568e-01, -6.4599e-01,\n",
       "         8.5160e-01, -5.7669e-01, -1.8208e-01,  2.7977e+00, -3.3127e+00,\n",
       "         1.9497e+00, -5.0542e-01,  7.7941e-01, -1.6139e+00, -1.6568e+00,\n",
       "        -9.5908e-01, -8.6417e-01, -1.5654e+00, -2.5985e+00,  8.7689e-01,\n",
       "         3.3585e+00, -1.0355e+00, -8.7262e-01,  1.9384e+00,  2.4268e+00,\n",
       "        -7.6888e-01, -2.6696e+00, -4.1302e+00,  1.7602e+00, -2.7282e+00,\n",
       "        -1.9003e+00,  4.3386e-01, -1.3099e+00, -2.7954e-01, -1.4469e+00,\n",
       "        -1.1402e+00,  1.7790e+00,  1.3619e+00,  1.6343e+00, -1.3679e+00,\n",
       "         8.9673e-01, -9.5267e-01, -8.4727e-01,  2.6099e-03, -1.3714e+00,\n",
       "        -1.5213e+00, -1.9591e+00, -3.1789e-02,  3.4097e+00,  2.4382e-01,\n",
       "         2.4116e-01, -4.1789e+00, -9.3391e-01,  2.0333e+00,  8.2961e-02,\n",
       "         4.9212e-01,  7.4512e-01,  1.1272e+00,  7.4082e-01, -8.2821e-01,\n",
       "         2.8031e+00,  2.8464e+00, -5.1653e-01, -1.3629e+00, -2.4284e+00,\n",
       "        -4.7127e-01,  8.1873e-01, -1.8970e+00,  2.0583e+00, -2.7887e+00,\n",
       "        -1.0356e+00, -1.7579e+00,  1.1726e+00,  1.4140e+00,  2.1731e+00,\n",
       "         7.4137e-01,  4.6812e-01,  2.8800e+00, -3.0092e+00,  4.4193e-01,\n",
       "        -2.7831e-01, -8.0954e-01,  2.3974e+00,  5.4197e-01, -1.2267e+00,\n",
       "         9.3785e-01, -8.0545e-01,  2.2874e+00, -2.2543e+00, -1.1837e+00,\n",
       "         5.3564e-01, -7.1728e-01,  1.4147e-01,  8.5384e-03,  1.4660e+00,\n",
       "         9.7901e-01,  9.3061e-01, -2.1353e+00, -2.1379e+00, -7.7838e-02,\n",
       "        -1.8063e+00, -4.7048e+00, -8.4219e-01,  5.1543e-01,  1.8650e+00,\n",
       "        -1.2632e+00, -6.5789e-01,  7.7774e-01,  1.3932e-02, -6.0284e-01,\n",
       "         7.6703e-01, -1.3735e+00,  8.9282e-01,  2.7380e-01, -5.1642e-01,\n",
       "         8.1826e-01,  3.0596e+00, -1.9227e+00,  2.8966e-01, -6.9723e-01,\n",
       "         2.8795e+00, -1.0154e+00, -6.9224e-01, -9.4912e-01,  8.4292e-01,\n",
       "         3.5886e-01,  2.0002e+00, -1.2035e+00,  3.7973e+00, -9.1037e-01,\n",
       "        -1.0567e+00, -2.0581e+00,  2.5160e-01,  3.7887e+00,  1.2055e+00,\n",
       "         1.0659e+00, -1.7812e-01,  2.8981e-01,  7.6266e-01,  9.3175e-01,\n",
       "         4.9156e-01, -1.0002e+00,  8.6675e-01,  6.7976e-01, -2.2733e-02,\n",
       "        -1.1268e+00, -2.8024e-01,  8.2227e-01,  4.2740e-01, -2.0373e+00,\n",
       "        -5.6468e-01, -1.2907e+00,  1.8170e+00,  1.9135e+00,  1.7705e+00,\n",
       "         6.7632e-01, -4.0244e-01, -4.3068e+00,  2.0050e+00,  2.6094e+00,\n",
       "        -2.7098e+00, -7.6769e-01,  2.1051e-01, -7.3525e-01,  2.4840e+00,\n",
       "         1.7394e+00,  2.1782e+00,  1.8681e+00,  8.7265e-01, -8.5944e-01,\n",
       "        -1.0298e+00,  1.8907e+00,  6.3638e-01, -3.4951e+00,  2.3721e+00,\n",
       "         1.1689e+00,  4.7122e-01, -2.8816e-01,  7.0747e-01, -2.6694e+00,\n",
       "         1.7374e+00,  8.8766e-01, -2.2899e+00, -1.4466e+00,  4.0119e-01,\n",
       "         1.2827e+00, -8.4981e-01,  1.4103e+00,  4.2915e-01,  3.2196e+00,\n",
       "        -6.8149e-01,  6.8652e-01,  1.7771e+00, -1.7884e+00, -6.7630e-01,\n",
       "         2.6036e-01, -1.0865e+00,  6.2639e-01, -1.5473e+00, -1.3843e+00,\n",
       "        -4.5474e-01, -4.4192e-01,  6.7657e-01, -2.1069e+00,  2.3111e+00],\n",
       "       dtype=float32)}"
      ]
     },
     "execution_count": 3,
     "metadata": {},
     "output_type": "execute_result"
    }
   ],
   "source": [
    "word_vectors"
   ]
  },
  {
   "cell_type": "code",
   "execution_count": 4,
   "metadata": {},
   "outputs": [],
   "source": [
    "from scipy import spatial\n",
    "\n",
    "cosine_similarity = lambda x, y: 1 - spatial.distance.cosine(x, y)"
   ]
  },
  {
   "cell_type": "code",
   "execution_count": 5,
   "metadata": {},
   "outputs": [],
   "source": [
    "# Write an expression for vector arithmetic\n",
    "# For example: new_vector = word1 - word2 + word3\n",
    "ecstatic_vector = nlp.vocab['ecstatic'].vector\n",
    "joyful_vector = nlp.vocab['joyful'].vector\n",
    "miserable_vector = nlp.vocab['miserable'].vector\n",
    "\n",
    "new_vector = ecstatic_vector - joyful_vector + miserable_vector\n",
    "\n",
    "computed_similarities = []"
   ]
  },
  {
   "cell_type": "code",
   "execution_count": 6,
   "metadata": {},
   "outputs": [
    {
     "name": "stdout",
     "output_type": "stream",
     "text": [
      "['miserable', 'cause', 'and', 'or', 'havin', 'were', 'that', 'ecstatic', 'where', 'these']\n"
     ]
    }
   ],
   "source": [
    "# List the top ten closest vectors in the vocabulary to the result of the expression above\n",
    "for word in nlp.vocab:\n",
    "    if word.has_vector:\n",
    "        if word.is_lower:\n",
    "            if word.is_alpha:\n",
    "                similarity = cosine_similarity(new_vector, word.vector)\n",
    "                computed_similarities.append((word, similarity))\n",
    "\n",
    "computed_similarities = sorted(computed_similarities, key=lambda item: -item[1])\n",
    "\n",
    "print([w[0].text for w in computed_similarities[:10]])"
   ]
  },
  {
   "cell_type": "markdown",
   "metadata": {},
   "source": [
    "#### CHALLENGE: Write a function that takes in 3 strings, performs a-b+c arithmetic, and returns a top-ten result"
   ]
  },
  {
   "cell_type": "code",
   "execution_count": 7,
   "metadata": {},
   "outputs": [],
   "source": [
    "import spacy\n",
    "from scipy.spatial.distance import cosine\n",
    "\n",
    "# Load spaCy's medium-sized English model\n",
    "nlp = spacy.load('en_core_web_md')\n",
    "\n",
    "def vector_math(a,b,c):\n",
    "    \n",
    "    result_vector = nlp.vocab[a].vector - nlp.vocab[b].vector + nlp.vocab[c].vector\n",
    "\n",
    "    all_words = [word for word in nlp.vocab.strings if nlp.vocab[word].has_vector]\n",
    "    word_similarities = [(word, 1 - cosine(result_vector, nlp.vocab[word].vector)) for word in all_words]\n",
    "\n",
    "    word_similarities = sorted(word_similarities, key=lambda item: item[1], reverse=True)\n",
    "\n",
    "    return word_similarities[:10]"
   ]
  },
  {
   "cell_type": "code",
   "execution_count": 8,
   "metadata": {},
   "outputs": [
    {
     "data": {
      "text/plain": [
       "[('Ariarathes', 0.8489541040036218),\n",
       " ('king', 0.8489541040036218),\n",
       " ('kingi', 0.8489541040036218),\n",
       " ('kingii', 0.8489541040036218),\n",
       " ('kingly', 0.8489541040036218),\n",
       " ('kingmaker', 0.8489541040036218),\n",
       " ('overlord', 0.8489541040036218),\n",
       " ('Æthelstan', 0.8489541040036218),\n",
       " ('Arsaces', 0.7189059645361134),\n",
       " ('Ennals', 0.7189059645361134)]"
      ]
     },
     "execution_count": 8,
     "metadata": {},
     "output_type": "execute_result"
    }
   ],
   "source": [
    "# Test the function on known words:\n",
    "vector_math('king','man','woman')"
   ]
  },
  {
   "cell_type": "markdown",
   "metadata": {},
   "source": [
    "## Task #2: Perform VADER Sentiment Analysis on your own review\n",
    "Write code that returns a set of SentimentIntensityAnalyzer polarity scores based on your own written review."
   ]
  },
  {
   "cell_type": "code",
   "execution_count": 10,
   "metadata": {},
   "outputs": [
    {
     "name": "stderr",
     "output_type": "stream",
     "text": [
      "[nltk_data] Downloading package vader_lexicon to\n",
      "[nltk_data]     C:\\Users\\USER\\AppData\\Roaming\\nltk_data...\n"
     ]
    },
    {
     "data": {
      "text/plain": [
       "True"
      ]
     },
     "execution_count": 10,
     "metadata": {},
     "output_type": "execute_result"
    }
   ],
   "source": [
    "import nltk\n",
    "nltk.download('vader_lexicon')"
   ]
  },
  {
   "cell_type": "code",
   "execution_count": 11,
   "metadata": {},
   "outputs": [],
   "source": [
    "# Import SentimentIntensityAnalyzer and create an sid object\n",
    "from nltk.sentiment import SentimentIntensityAnalyzer\n",
    "sid = SentimentIntensityAnalyzer()"
   ]
  },
  {
   "cell_type": "code",
   "execution_count": 12,
   "metadata": {},
   "outputs": [],
   "source": [
    "# Write a review as one continuous string (multiple sentences are ok)\n",
    "review = 'I really love Apex Legends. The gameplay is exciting, the gunplay and differing legend compositions and abilities makes it better than most battle royales in the current market.'"
   ]
  },
  {
   "cell_type": "code",
   "execution_count": 13,
   "metadata": {},
   "outputs": [
    {
     "data": {
      "text/plain": [
       "{'neg': 0.077, 'neu': 0.587, 'pos': 0.336, 'compound': 0.8658}"
      ]
     },
     "execution_count": 13,
     "metadata": {},
     "output_type": "execute_result"
    }
   ],
   "source": [
    "# Obtain the sid scores for your review\n",
    "sid.polarity_scores(review)"
   ]
  },
  {
   "cell_type": "markdown",
   "metadata": {},
   "source": [
    "### CHALLENGE: Write a function that takes in a review and returns a score of \"Positive\", \"Negative\" or \"Neutral\"\n"
   ]
  },
  {
   "cell_type": "code",
   "execution_count": 14,
   "metadata": {},
   "outputs": [],
   "source": [
    "def review_rating(string):\n",
    "    sid = SentimentIntensityAnalyzer()\n",
    "    scores = sid.polarity_scores(review)\n",
    "    \n",
    "    compound_score = scores['compound']\n",
    "    if compound_score >= 0.05:\n",
    "        return \"Positive\"\n",
    "    elif compound_score <= -0.05:\n",
    "        return \"Negative\"\n",
    "    else:\n",
    "        return \"Neutral\""
   ]
  },
  {
   "cell_type": "code",
   "execution_count": 15,
   "metadata": {},
   "outputs": [
    {
     "data": {
      "text/plain": [
       "'Positive'"
      ]
     },
     "execution_count": 15,
     "metadata": {},
     "output_type": "execute_result"
    }
   ],
   "source": [
    "# Test the function on your review above:\n",
    "review_rating(review)"
   ]
  }
 ],
 "metadata": {
  "kernelspec": {
   "display_name": "Python 3 (ipykernel)",
   "language": "python",
   "name": "python3"
  },
  "language_info": {
   "codemirror_mode": {
    "name": "ipython",
    "version": 3
   },
   "file_extension": ".py",
   "mimetype": "text/x-python",
   "name": "python",
   "nbconvert_exporter": "python",
   "pygments_lexer": "ipython3",
   "version": "3.12.1"
  }
 },
 "nbformat": 4,
 "nbformat_minor": 4
}
